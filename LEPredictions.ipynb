{
 "cells": [
  {
   "cell_type": "code",
   "execution_count": 1,
   "metadata": {},
   "outputs": [],
   "source": [
    "%matplotlib inline\n",
    "import matplotlib.pyplot as plt\n",
    "import numpy as np\n",
    "import pandas as pd\n",
    "import seaborn as sns\n",
    "\n",
    "from sklearn.model_selection import train_test_split\n",
    "from sklearn.linear_model import LinearRegression\n",
    "from sklearn.preprocessing import Imputer\n",
    "from sklearn.model_selection import cross_val_score"
   ]
  },
  {
   "cell_type": "code",
   "execution_count": 3,
   "metadata": {},
   "outputs": [],
   "source": [
    "full_data = pd.read_csv('data/Life Expectancy Data 1.csv')\n",
    "partial_data = pd.read_csv('data/Life Expectancy Data 2.csv')\n",
    "#full_data_clean = full_data.dropna(how='any')\n",
    "#print(full_data_clean.columns)\n",
    "#plt.figure(figsize = (16,5))\n",
    "\n",
    "#sns.heatmap(full_data_clean.corr(),annot=True,linewidths=1.0)\n",
    "#partial_data = partial_data.rename(columns={'Life expectancy (Clio-Infra up to 1949; UN Population Division for 1950 to 2015)':'Life Expectancy'},inplace=True)\n",
    "#partial_data_usa = partial_data.loc[partial_data['Code'] == 'USA']\n",
    "#partial_data_usa.head()\n",
    "full_data_usa = full_data.loc[full_data['Country'] == 'United States of America']\n",
    "\n"
   ]
  },
  {
   "cell_type": "code",
   "execution_count": 23,
   "metadata": {},
   "outputs": [
    {
     "data": {
      "text/html": [
       "<div>\n",
       "<style scoped>\n",
       "    .dataframe tbody tr th:only-of-type {\n",
       "        vertical-align: middle;\n",
       "    }\n",
       "\n",
       "    .dataframe tbody tr th {\n",
       "        vertical-align: top;\n",
       "    }\n",
       "\n",
       "    .dataframe thead th {\n",
       "        text-align: right;\n",
       "    }\n",
       "</style>\n",
       "<table border=\"1\" class=\"dataframe\">\n",
       "  <thead>\n",
       "    <tr style=\"text-align: right;\">\n",
       "      <th></th>\n",
       "      <th>Year</th>\n",
       "      <th>Life expectancy</th>\n",
       "      <th>Adult Mortality</th>\n",
       "      <th>BMI</th>\n",
       "    </tr>\n",
       "  </thead>\n",
       "  <tbody>\n",
       "    <tr>\n",
       "      <th>2794</th>\n",
       "      <td>2015</td>\n",
       "      <td>79.3</td>\n",
       "      <td>13.0</td>\n",
       "      <td>69.6</td>\n",
       "    </tr>\n",
       "    <tr>\n",
       "      <th>2795</th>\n",
       "      <td>2014</td>\n",
       "      <td>79.1</td>\n",
       "      <td>14.0</td>\n",
       "      <td>69.1</td>\n",
       "    </tr>\n",
       "    <tr>\n",
       "      <th>2796</th>\n",
       "      <td>2013</td>\n",
       "      <td>78.9</td>\n",
       "      <td>16.0</td>\n",
       "      <td>68.6</td>\n",
       "    </tr>\n",
       "    <tr>\n",
       "      <th>2797</th>\n",
       "      <td>2012</td>\n",
       "      <td>78.8</td>\n",
       "      <td>16.0</td>\n",
       "      <td>68.0</td>\n",
       "    </tr>\n",
       "    <tr>\n",
       "      <th>2798</th>\n",
       "      <td>2011</td>\n",
       "      <td>78.7</td>\n",
       "      <td>16.0</td>\n",
       "      <td>67.5</td>\n",
       "    </tr>\n",
       "  </tbody>\n",
       "</table>\n",
       "</div>"
      ],
      "text/plain": [
       "      Year  Life expectancy   Adult Mortality   BMI \n",
       "2794  2015              79.3             13.0   69.6\n",
       "2795  2014              79.1             14.0   69.1\n",
       "2796  2013              78.9             16.0   68.6\n",
       "2797  2012              78.8             16.0   68.0\n",
       "2798  2011              78.7             16.0   67.5"
      ]
     },
     "execution_count": 23,
     "metadata": {},
     "output_type": "execute_result"
    }
   ],
   "source": [
    "# Get prediction dataset \n",
    "prediction_data_usa = full_data_usa[['Year','Life expectancy ','Adult Mortality',' BMI ']]\n",
    "prediction_data_usa.head()\n",
    "\n",
    "# Correlation Plot on the prediction data\n",
    "# sns.pairplot(prediction_data_usa)"
   ]
  },
  {
   "cell_type": "code",
   "execution_count": 5,
   "metadata": {},
   "outputs": [],
   "source": [
    "# Assign the data to X and y\n",
    "X = prediction_data_usa[['Year','Adult Mortality',' BMI ']]\n",
    "y = prediction_data_usa['Life expectancy ']\n",
    "#print(\"Shape: \", X.shape, y.shape)\n",
    "#plt.figure(figsize = (16,5))\n",
    "#plt.plot(X, y)"
   ]
  },
  {
   "cell_type": "code",
   "execution_count": 6,
   "metadata": {},
   "outputs": [],
   "source": [
    "# Create training and test data\n",
    "X_train, X_test, y_train, y_test = train_test_split(X, y, test_size= 0.4,random_state=5)\n"
   ]
  },
  {
   "cell_type": "code",
   "execution_count": 7,
   "metadata": {},
   "outputs": [],
   "source": [
    "# Create model\n",
    "model = LinearRegression()\n"
   ]
  },
  {
   "cell_type": "code",
   "execution_count": 8,
   "metadata": {},
   "outputs": [
    {
     "data": {
      "text/plain": [
       "LinearRegression(copy_X=True, fit_intercept=True, n_jobs=1, normalize=False)"
      ]
     },
     "execution_count": 8,
     "metadata": {},
     "output_type": "execute_result"
    }
   ],
   "source": [
    "# Fit the model with training data\n",
    "model.fit(X_train, y_train)\n"
   ]
  },
  {
   "cell_type": "code",
   "execution_count": 9,
   "metadata": {},
   "outputs": [
    {
     "name": "stdout",
     "output_type": "stream",
     "text": [
      "Model Intercept : -231.2707468028169\n"
     ]
    },
    {
     "data": {
      "text/html": [
       "<div>\n",
       "<style scoped>\n",
       "    .dataframe tbody tr th:only-of-type {\n",
       "        vertical-align: middle;\n",
       "    }\n",
       "\n",
       "    .dataframe tbody tr th {\n",
       "        vertical-align: top;\n",
       "    }\n",
       "\n",
       "    .dataframe thead th {\n",
       "        text-align: right;\n",
       "    }\n",
       "</style>\n",
       "<table border=\"1\" class=\"dataframe\">\n",
       "  <thead>\n",
       "    <tr style=\"text-align: right;\">\n",
       "      <th></th>\n",
       "      <th>Coeff</th>\n",
       "    </tr>\n",
       "  </thead>\n",
       "  <tbody>\n",
       "    <tr>\n",
       "      <th>Year</th>\n",
       "      <td>0.154148</td>\n",
       "    </tr>\n",
       "    <tr>\n",
       "      <th>Adult Mortality</th>\n",
       "      <td>-0.002463</td>\n",
       "    </tr>\n",
       "    <tr>\n",
       "      <th>BMI</th>\n",
       "      <td>0.000382</td>\n",
       "    </tr>\n",
       "  </tbody>\n",
       "</table>\n",
       "</div>"
      ],
      "text/plain": [
       "                    Coeff\n",
       "Year             0.154148\n",
       "Adult Mortality -0.002463\n",
       " BMI             0.000382"
      ]
     },
     "execution_count": 9,
     "metadata": {},
     "output_type": "execute_result"
    }
   ],
   "source": [
    "# Calculate Coeff and Intercepts for Each Factor\n",
    "print('Model Intercept : ' + str(model.intercept_))\n",
    "coeff_df = pd.DataFrame(model.coef_,X_train.columns, columns= ['Coeff'])\n",
    "coeff_df"
   ]
  },
  {
   "cell_type": "code",
   "execution_count": 10,
   "metadata": {},
   "outputs": [],
   "source": [
    "#Predictions"
   ]
  },
  {
   "cell_type": "markdown",
   "metadata": {},
   "source": [
    "Predictions"
   ]
  },
  {
   "cell_type": "code",
   "execution_count": 11,
   "metadata": {},
   "outputs": [
    {
     "data": {
      "text/plain": [
       "array([78.55573994, 79.17563686, 78.23959632, 79.01637192, 77.54492556,\n",
       "       76.74719026, 77.39297241])"
      ]
     },
     "execution_count": 11,
     "metadata": {},
     "output_type": "execute_result"
    }
   ],
   "source": [
    "# Create predicted model \n",
    "predictions= model.predict(X_test)\n",
    "predictions\n"
   ]
  },
  {
   "cell_type": "markdown",
   "metadata": {},
   "source": [
    "# Plotting Predictions"
   ]
  },
  {
   "cell_type": "code",
   "execution_count": 12,
   "metadata": {},
   "outputs": [
    {
     "data": {
      "text/plain": [
       "<matplotlib.legend.Legend at 0x2421d1f0518>"
      ]
     },
     "execution_count": 12,
     "metadata": {},
     "output_type": "execute_result"
    },
    {
     "data": {
      "image/png": "[encoded data removed]",
      "text/plain": [
       "<matplotlib.figure.Figure at 0x2421ce56128>"
      ]
     },
     "metadata": {},
     "output_type": "display_data"
    }
   ],
   "source": [
    "plt.figure(figsize = (16,5))\n",
    "plt.scatter(model.predict(X_train), model.predict(X_train) - y_train, c=\"blue\", label=\"Training Data\")\n",
    "plt.scatter(model.predict(X_test), model.predict(X_test) - y_test, c=\"orange\", label=\"Testing Data\")\n",
    "plt.legend()\n",
    "#plt.scatter(y_test,predictions)\n"
   ]
  },
  {
   "cell_type": "code",
   "execution_count": 13,
   "metadata": {},
   "outputs": [
    {
     "name": "stdout",
     "output_type": "stream",
     "text": [
      "Mean Squared Error : 0.008272039203786207\n",
      "R2 Score: 0.9868994854238681\n"
     ]
    }
   ],
   "source": [
    "# Calculate MSE and R2 value\n",
    "from sklearn.metrics import mean_squared_error, r2_score\n",
    "mse = mean_squared_error(y_test, predictions)\n",
    "R2 = r2_score(y_test,predictions)\n",
    "print(\"Mean Squared Error : \" + str(mse))\n",
    "print(\"R2 Score: \" + str(R2))"
   ]
  },
  {
   "cell_type": "code",
   "execution_count": null,
   "metadata": {},
   "outputs": [],
   "source": [
    "# World Data Predictions - Life Expectancy vs BMI , Life Expectancy vs GDP \n",
    "\n",
    "full_data_factors = full_data[['Country','Life expectancy ','Adult Mortality',' BMI ', 'GDP']]\n",
    "full_data_factors = full_data_factors.dropna(how = 'any')\n",
    "full_data_factors.rename(columns={' BMI ':'BMI'})\n",
    "full_data_factors.head()\n",
    "factors_df = full_data_factors[['Life expectancy ','Adult Mortality',' BMI ', 'GDP']]\n",
    "factors_df.head()"
   ]
  },
  {
   "cell_type": "code",
   "execution_count": null,
   "metadata": {},
   "outputs": [],
   "source": [
    "sns.pairplot(full_data_factors,hue='Country')"
   ]
  },
  {
   "cell_type": "code",
   "execution_count": null,
   "metadata": {},
   "outputs": [],
   "source": [
    "# Plot on different factor combinations\n",
    "plt.figure(figsize = (10,5))\n",
    "plt.scatter(factors_df['GDP'].values,factors_df['Life expectancy '].values)\n",
    "plt.xlabel(\"GDP\")\n",
    "plt.ylabel(\"Life Expectancy\")"
   ]
  },
  {
   "cell_type": "code",
   "execution_count": null,
   "metadata": {},
   "outputs": [],
   "source": [
    "# create model to train world data\n",
    "\n",
    "try:\n",
    "    x = factors_df[' BMI '].values.reshape(-1,1)\n",
    "    y = factors_df['Life expectancy '].reshape(-1,1)\n",
    "    # xmin = np.array[X.min()]\n",
    "    # print(X.shape,y.shape)\n",
    "    new_model = LinearRegression()\n",
    "    new_model.fit(x,y)\n",
    "    plt.figure(figsize=(16,5))\n",
    "    plt.scatter(x,y, alpha=0.5,c =x)\n",
    "    print(new_model.intercept_)\n",
    "    print(new_model.coef_)\n",
    "    \n",
    "    plt.xlabel(\"BMI\")\n",
    "    plt.ylabel(\"Life Expectancy\")\n",
    "    \n",
    "    plt.plot(x, new_model.predict(x), color='red', linewidth=1)\n",
    "    plt.savefig('images/image.jpg')\n",
    "    plt.show()\n",
    "    \n",
    "except Exception as e:\n",
    "    print(e)"
   ]
  },
  {
   "cell_type": "code",
   "execution_count": null,
   "metadata": {},
   "outputs": [],
   "source": []
  },
  {
   "cell_type": "code",
   "execution_count": null,
   "metadata": {},
   "outputs": [],
   "source": []
  }
 ],
 "metadata": {
  "kernelspec": {
   "display_name": "Python 3",
   "language": "python",
   "name": "python3"
  },
  "language_info": {
   "codemirror_mode": {
    "name": "ipython",
    "version": 3
   },
   "file_extension": ".py",
   "mimetype": "text/x-python",
   "name": "python",
   "nbconvert_exporter": "python",
   "pygments_lexer": "ipython3",
   "version": "3.6.4"
  }
 },
 "nbformat": 4,
 "nbformat_minor": 2
}
